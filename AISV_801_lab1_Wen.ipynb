{
 "cells": [
  {
   "cell_type": "markdown",
   "metadata": {
    "colab_type": "text",
    "id": "view-in-github"
   },
   "source": [
    "<a href=\"https://colab.research.google.com/github/bobby1/UCSC-Natural-Language-Processing/blob/main/AISV_801_lab1_Wen.ipynb\" target=\"_parent\"><img src=\"https://colab.research.google.com/assets/colab-badge.svg\" alt=\"Open In Colab\"/></a>"
   ]
  },
  {
   "cell_type": "markdown",
   "metadata": {
    "id": "s0bsikN6f858"
   },
   "source": [
    "# AISV.801.(6) Natural Language Processing\n",
    "## Instructor Joseph Meyer\n",
    "\n",
    "Assignment 1: Introductory Lab\n",
    "\n",
    "Bobby Wen\n",
    "\n",
    "NOTE: lab tasks are separated into I and II tasks. I task are from page 20 of NLP class one PPT.  II tasks are from page 21 of class PPT."
   ]
  },
  {
   "cell_type": "markdown",
   "metadata": {
    "id": "mf9W8cdmysPr"
   },
   "source": [
    "Part I (slide 20) tasks"
   ]
  },
  {
   "cell_type": "code",
   "execution_count": null,
   "metadata": {
    "id": "qPa19ScQRRoy"
   },
   "outputs": [],
   "source": [
    "import pandas as pd\n",
    "import numpy as np\n",
    "from sklearn.datasets import load_iris"
   ]
  },
  {
   "cell_type": "code",
   "execution_count": null,
   "metadata": {
    "id": "ZkzHnZuVRe9w",
    "tags": []
   },
   "outputs": [],
   "source": [
    "# I-1: Load the iris dataset from sklearn\n",
    "iris = load_iris()"
   ]
  },
  {
   "cell_type": "code",
   "execution_count": null,
   "metadata": {
    "colab": {
     "base_uri": "https://localhost:8080/"
    },
    "id": "-i4xT5UQO8FF",
    "outputId": "2258eee7-c4e5-45fd-e933-399b6590ce65"
   },
   "outputs": [
    {
     "name": "stdout",
     "output_type": "stream",
     "text": [
      "(150, 4)\n"
     ]
    }
   ],
   "source": [
    "# data set check: size of feature matrix\n",
    "print(iris.data.shape)"
   ]
  },
  {
   "cell_type": "code",
   "execution_count": null,
   "metadata": {
    "colab": {
     "base_uri": "https://localhost:8080/"
    },
    "id": "vkNugeyTO2tI",
    "outputId": "8d226b86-c096-4fc8-a6de-f72b8454e9e8"
   },
   "outputs": [
    {
     "name": "stdout",
     "output_type": "stream",
     "text": [
      "(150,)\n"
     ]
    }
   ],
   "source": [
    "# size of target vector\n",
    "print(iris.target.shape)"
   ]
  },
  {
   "cell_type": "code",
   "execution_count": null,
   "metadata": {
    "colab": {
     "base_uri": "https://localhost:8080/"
    },
    "id": "X4nIZ8GwOf2Y",
    "outputId": "6a1302bb-eda3-4c28-e55f-c9e0fe988595"
   },
   "outputs": [
    {
     "name": "stdout",
     "output_type": "stream",
     "text": [
      "['sepal length (cm)', 'sepal width (cm)', 'petal length (cm)', 'petal width (cm)']\n"
     ]
    }
   ],
   "source": [
    "# data set check\n",
    "print(iris.feature_names)"
   ]
  },
  {
   "cell_type": "code",
   "execution_count": null,
   "metadata": {
    "colab": {
     "base_uri": "https://localhost:8080/"
    },
    "id": "Zvcg9cbbOl3S",
    "outputId": "c7740050-79bd-4ba1-bd9d-b10977d7b0bb"
   },
   "outputs": [
    {
     "name": "stdout",
     "output_type": "stream",
     "text": [
      "['setosa' 'versicolor' 'virginica']\n"
     ]
    }
   ],
   "source": [
    "# data set check\n",
    "print(iris.target_names)"
   ]
  },
  {
   "cell_type": "code",
   "execution_count": null,
   "metadata": {
    "id": "z3DBHu91M3Oq"
   },
   "outputs": [],
   "source": [
    "# Store features matrix in X training and y testing data\n",
    "X= iris.data\n",
    "#Store target vector in y\n",
    "y= iris.target"
   ]
  },
  {
   "cell_type": "code",
   "execution_count": null,
   "metadata": {
    "id": "s57v6UiDRhn6"
   },
   "outputs": [],
   "source": [
    "#Convert the dataset into a pandas DataFrame\n",
    "df = pd.DataFrame(data= np.c_[iris['data'], iris['target']]\n",
    "                  ,columns= iris['feature_names'] + ['Species'])"
   ]
  },
  {
   "cell_type": "code",
   "execution_count": null,
   "metadata": {
    "colab": {
     "base_uri": "https://localhost:8080/"
    },
    "id": "j3fcBvH8wp5k",
    "outputId": "223a99ce-c56f-4ec8-9231-6069813f0447",
    "tags": []
   },
   "outputs": [
    {
     "data": {
      "text/plain": [
       "0.0    50\n",
       "1.0    50\n",
       "2.0    50\n",
       "Name: Species, dtype: int64"
      ]
     },
     "execution_count": 9,
     "metadata": {},
     "output_type": "execute_result"
    }
   ],
   "source": [
    "df['Species'].value_counts()"
   ]
  },
  {
   "cell_type": "code",
   "execution_count": null,
   "metadata": {
    "colab": {
     "base_uri": "https://localhost:8080/",
     "height": 206
    },
    "id": "xD5eQQlURjBA",
    "outputId": "4b85fa8d-00bf-4fcf-b679-dcc7097a30d9"
   },
   "outputs": [
    {
     "data": {
      "text/html": [
       "\n",
       "  <div id=\"df-9b13ea73-82ae-4075-989b-59415c3333db\">\n",
       "    <div class=\"colab-df-container\">\n",
       "      <div>\n",
       "<style scoped>\n",
       "    .dataframe tbody tr th:only-of-type {\n",
       "        vertical-align: middle;\n",
       "    }\n",
       "\n",
       "    .dataframe tbody tr th {\n",
       "        vertical-align: top;\n",
       "    }\n",
       "\n",
       "    .dataframe thead th {\n",
       "        text-align: right;\n",
       "    }\n",
       "</style>\n",
       "<table border=\"1\" class=\"dataframe\">\n",
       "  <thead>\n",
       "    <tr style=\"text-align: right;\">\n",
       "      <th></th>\n",
       "      <th>sepal length (cm)</th>\n",
       "      <th>sepal width (cm)</th>\n",
       "      <th>petal length (cm)</th>\n",
       "      <th>petal width (cm)</th>\n",
       "      <th>Species</th>\n",
       "    </tr>\n",
       "  </thead>\n",
       "  <tbody>\n",
       "    <tr>\n",
       "      <th>0</th>\n",
       "      <td>5.1</td>\n",
       "      <td>3.5</td>\n",
       "      <td>1.4</td>\n",
       "      <td>0.2</td>\n",
       "      <td>0.0</td>\n",
       "    </tr>\n",
       "    <tr>\n",
       "      <th>1</th>\n",
       "      <td>4.9</td>\n",
       "      <td>3.0</td>\n",
       "      <td>1.4</td>\n",
       "      <td>0.2</td>\n",
       "      <td>0.0</td>\n",
       "    </tr>\n",
       "    <tr>\n",
       "      <th>2</th>\n",
       "      <td>4.7</td>\n",
       "      <td>3.2</td>\n",
       "      <td>1.3</td>\n",
       "      <td>0.2</td>\n",
       "      <td>0.0</td>\n",
       "    </tr>\n",
       "    <tr>\n",
       "      <th>3</th>\n",
       "      <td>4.6</td>\n",
       "      <td>3.1</td>\n",
       "      <td>1.5</td>\n",
       "      <td>0.2</td>\n",
       "      <td>0.0</td>\n",
       "    </tr>\n",
       "    <tr>\n",
       "      <th>4</th>\n",
       "      <td>5.0</td>\n",
       "      <td>3.6</td>\n",
       "      <td>1.4</td>\n",
       "      <td>0.2</td>\n",
       "      <td>0.0</td>\n",
       "    </tr>\n",
       "  </tbody>\n",
       "</table>\n",
       "</div>\n",
       "      <button class=\"colab-df-convert\" onclick=\"convertToInteractive('df-9b13ea73-82ae-4075-989b-59415c3333db')\"\n",
       "              title=\"Convert this dataframe to an interactive table.\"\n",
       "              style=\"display:none;\">\n",
       "        \n",
       "  <svg xmlns=\"http://www.w3.org/2000/svg\" height=\"24px\"viewBox=\"0 0 24 24\"\n",
       "       width=\"24px\">\n",
       "    <path d=\"M0 0h24v24H0V0z\" fill=\"none\"/>\n",
       "    <path d=\"M18.56 5.44l.94 2.06.94-2.06 2.06-.94-2.06-.94-.94-2.06-.94 2.06-2.06.94zm-11 1L8.5 8.5l.94-2.06 2.06-.94-2.06-.94L8.5 2.5l-.94 2.06-2.06.94zm10 10l.94 2.06.94-2.06 2.06-.94-2.06-.94-.94-2.06-.94 2.06-2.06.94z\"/><path d=\"M17.41 7.96l-1.37-1.37c-.4-.4-.92-.59-1.43-.59-.52 0-1.04.2-1.43.59L10.3 9.45l-7.72 7.72c-.78.78-.78 2.05 0 2.83L4 21.41c.39.39.9.59 1.41.59.51 0 1.02-.2 1.41-.59l7.78-7.78 2.81-2.81c.8-.78.8-2.07 0-2.86zM5.41 20L4 18.59l7.72-7.72 1.47 1.35L5.41 20z\"/>\n",
       "  </svg>\n",
       "      </button>\n",
       "      \n",
       "  <style>\n",
       "    .colab-df-container {\n",
       "      display:flex;\n",
       "      flex-wrap:wrap;\n",
       "      gap: 12px;\n",
       "    }\n",
       "\n",
       "    .colab-df-convert {\n",
       "      background-color: #E8F0FE;\n",
       "      border: none;\n",
       "      border-radius: 50%;\n",
       "      cursor: pointer;\n",
       "      display: none;\n",
       "      fill: #1967D2;\n",
       "      height: 32px;\n",
       "      padding: 0 0 0 0;\n",
       "      width: 32px;\n",
       "    }\n",
       "\n",
       "    .colab-df-convert:hover {\n",
       "      background-color: #E2EBFA;\n",
       "      box-shadow: 0px 1px 2px rgba(60, 64, 67, 0.3), 0px 1px 3px 1px rgba(60, 64, 67, 0.15);\n",
       "      fill: #174EA6;\n",
       "    }\n",
       "\n",
       "    [theme=dark] .colab-df-convert {\n",
       "      background-color: #3B4455;\n",
       "      fill: #D2E3FC;\n",
       "    }\n",
       "\n",
       "    [theme=dark] .colab-df-convert:hover {\n",
       "      background-color: #434B5C;\n",
       "      box-shadow: 0px 1px 3px 1px rgba(0, 0, 0, 0.15);\n",
       "      filter: drop-shadow(0px 1px 2px rgba(0, 0, 0, 0.3));\n",
       "      fill: #FFFFFF;\n",
       "    }\n",
       "  </style>\n",
       "\n",
       "      <script>\n",
       "        const buttonEl =\n",
       "          document.querySelector('#df-9b13ea73-82ae-4075-989b-59415c3333db button.colab-df-convert');\n",
       "        buttonEl.style.display =\n",
       "          google.colab.kernel.accessAllowed ? 'block' : 'none';\n",
       "\n",
       "        async function convertToInteractive(key) {\n",
       "          const element = document.querySelector('#df-9b13ea73-82ae-4075-989b-59415c3333db');\n",
       "          const dataTable =\n",
       "            await google.colab.kernel.invokeFunction('convertToInteractive',\n",
       "                                                     [key], {});\n",
       "          if (!dataTable) return;\n",
       "\n",
       "          const docLinkHtml = 'Like what you see? Visit the ' +\n",
       "            '<a target=\"_blank\" href=https://colab.research.google.com/notebooks/data_table.ipynb>data table notebook</a>'\n",
       "            + ' to learn more about interactive tables.';\n",
       "          element.innerHTML = '';\n",
       "          dataTable['output_type'] = 'display_data';\n",
       "          await google.colab.output.renderOutput(dataTable, element);\n",
       "          const docLink = document.createElement('div');\n",
       "          docLink.innerHTML = docLinkHtml;\n",
       "          element.appendChild(docLink);\n",
       "        }\n",
       "      </script>\n",
       "    </div>\n",
       "  </div>\n",
       "  "
      ],
      "text/plain": [
       "   sepal length (cm)  sepal width (cm)  petal length (cm)  petal width (cm)  \\\n",
       "0                5.1               3.5                1.4               0.2   \n",
       "1                4.9               3.0                1.4               0.2   \n",
       "2                4.7               3.2                1.3               0.2   \n",
       "3                4.6               3.1                1.5               0.2   \n",
       "4                5.0               3.6                1.4               0.2   \n",
       "\n",
       "   Species  \n",
       "0      0.0  \n",
       "1      0.0  \n",
       "2      0.0  \n",
       "3      0.0  \n",
       "4      0.0  "
      ]
     },
     "execution_count": 10,
     "metadata": {},
     "output_type": "execute_result"
    }
   ],
   "source": [
    "# I-2: Show the first 5 rows of the DataFrame\n",
    "df.head()"
   ]
  },
  {
   "cell_type": "code",
   "execution_count": null,
   "metadata": {
    "colab": {
     "base_uri": "https://localhost:8080/"
    },
    "id": "JPPSZ9KuNJdo",
    "outputId": "ae17aa9a-303f-4662-e4df-e6c3a7471255"
   },
   "outputs": [
    {
     "data": {
      "text/plain": [
       "RangeIndex(start=0, stop=150, step=1)"
      ]
     },
     "execution_count": 11,
     "metadata": {},
     "output_type": "execute_result"
    }
   ],
   "source": [
    "# data set check\n",
    "df.index"
   ]
  },
  {
   "cell_type": "code",
   "execution_count": null,
   "metadata": {
    "colab": {
     "base_uri": "https://localhost:8080/"
    },
    "id": "fNL4TDDVZOY_",
    "outputId": "82ab0efd-046e-4c34-fc6a-e07ff6ff0184"
   },
   "outputs": [
    {
     "name": "stdout",
     "output_type": "stream",
     "text": [
      "Index(['sepal length (cm)', 'sepal width (cm)', 'petal length (cm)',\n",
      "       'petal width (cm)', 'Species'],\n",
      "      dtype='object')\n"
     ]
    }
   ],
   "source": [
    "# I-3: Show the column names.\n",
    "print(df.columns)"
   ]
  },
  {
   "cell_type": "code",
   "execution_count": null,
   "metadata": {
    "colab": {
     "base_uri": "https://localhost:8080/"
    },
    "id": "CqwU4KDOaJVO",
    "outputId": "ed134840-85b4-4264-e692-6833be596e3e"
   },
   "outputs": [
    {
     "name": "stdout",
     "output_type": "stream",
     "text": [
      "sepal length (cm)    float64\n",
      "sepal width (cm)     float64\n",
      "petal length (cm)    float64\n",
      "petal width (cm)     float64\n",
      "Species              float64\n",
      "dtype: object\n"
     ]
    }
   ],
   "source": [
    "# I-4: Show the data types of each column.\n",
    "print(df.dtypes)"
   ]
  },
  {
   "cell_type": "code",
   "execution_count": null,
   "metadata": {
    "colab": {
     "base_uri": "https://localhost:8080/",
     "height": 300
    },
    "id": "okmvT-KiaeHB",
    "outputId": "8d27601a-03da-49c0-c30d-51f331e8458e"
   },
   "outputs": [
    {
     "data": {
      "text/html": [
       "\n",
       "  <div id=\"df-35e87760-f5e7-4fc6-a22c-f329981ef63f\">\n",
       "    <div class=\"colab-df-container\">\n",
       "      <div>\n",
       "<style scoped>\n",
       "    .dataframe tbody tr th:only-of-type {\n",
       "        vertical-align: middle;\n",
       "    }\n",
       "\n",
       "    .dataframe tbody tr th {\n",
       "        vertical-align: top;\n",
       "    }\n",
       "\n",
       "    .dataframe thead th {\n",
       "        text-align: right;\n",
       "    }\n",
       "</style>\n",
       "<table border=\"1\" class=\"dataframe\">\n",
       "  <thead>\n",
       "    <tr style=\"text-align: right;\">\n",
       "      <th></th>\n",
       "      <th>sepal length (cm)</th>\n",
       "      <th>sepal width (cm)</th>\n",
       "      <th>petal length (cm)</th>\n",
       "      <th>petal width (cm)</th>\n",
       "      <th>Species</th>\n",
       "    </tr>\n",
       "  </thead>\n",
       "  <tbody>\n",
       "    <tr>\n",
       "      <th>count</th>\n",
       "      <td>150.000000</td>\n",
       "      <td>150.000000</td>\n",
       "      <td>150.000000</td>\n",
       "      <td>150.000000</td>\n",
       "      <td>150.000000</td>\n",
       "    </tr>\n",
       "    <tr>\n",
       "      <th>mean</th>\n",
       "      <td>5.843333</td>\n",
       "      <td>3.057333</td>\n",
       "      <td>3.758000</td>\n",
       "      <td>1.199333</td>\n",
       "      <td>1.000000</td>\n",
       "    </tr>\n",
       "    <tr>\n",
       "      <th>std</th>\n",
       "      <td>0.828066</td>\n",
       "      <td>0.435866</td>\n",
       "      <td>1.765298</td>\n",
       "      <td>0.762238</td>\n",
       "      <td>0.819232</td>\n",
       "    </tr>\n",
       "    <tr>\n",
       "      <th>min</th>\n",
       "      <td>4.300000</td>\n",
       "      <td>2.000000</td>\n",
       "      <td>1.000000</td>\n",
       "      <td>0.100000</td>\n",
       "      <td>0.000000</td>\n",
       "    </tr>\n",
       "    <tr>\n",
       "      <th>25%</th>\n",
       "      <td>5.100000</td>\n",
       "      <td>2.800000</td>\n",
       "      <td>1.600000</td>\n",
       "      <td>0.300000</td>\n",
       "      <td>0.000000</td>\n",
       "    </tr>\n",
       "    <tr>\n",
       "      <th>50%</th>\n",
       "      <td>5.800000</td>\n",
       "      <td>3.000000</td>\n",
       "      <td>4.350000</td>\n",
       "      <td>1.300000</td>\n",
       "      <td>1.000000</td>\n",
       "    </tr>\n",
       "    <tr>\n",
       "      <th>75%</th>\n",
       "      <td>6.400000</td>\n",
       "      <td>3.300000</td>\n",
       "      <td>5.100000</td>\n",
       "      <td>1.800000</td>\n",
       "      <td>2.000000</td>\n",
       "    </tr>\n",
       "    <tr>\n",
       "      <th>max</th>\n",
       "      <td>7.900000</td>\n",
       "      <td>4.400000</td>\n",
       "      <td>6.900000</td>\n",
       "      <td>2.500000</td>\n",
       "      <td>2.000000</td>\n",
       "    </tr>\n",
       "  </tbody>\n",
       "</table>\n",
       "</div>\n",
       "      <button class=\"colab-df-convert\" onclick=\"convertToInteractive('df-35e87760-f5e7-4fc6-a22c-f329981ef63f')\"\n",
       "              title=\"Convert this dataframe to an interactive table.\"\n",
       "              style=\"display:none;\">\n",
       "        \n",
       "  <svg xmlns=\"http://www.w3.org/2000/svg\" height=\"24px\"viewBox=\"0 0 24 24\"\n",
       "       width=\"24px\">\n",
       "    <path d=\"M0 0h24v24H0V0z\" fill=\"none\"/>\n",
       "    <path d=\"M18.56 5.44l.94 2.06.94-2.06 2.06-.94-2.06-.94-.94-2.06-.94 2.06-2.06.94zm-11 1L8.5 8.5l.94-2.06 2.06-.94-2.06-.94L8.5 2.5l-.94 2.06-2.06.94zm10 10l.94 2.06.94-2.06 2.06-.94-2.06-.94-.94-2.06-.94 2.06-2.06.94z\"/><path d=\"M17.41 7.96l-1.37-1.37c-.4-.4-.92-.59-1.43-.59-.52 0-1.04.2-1.43.59L10.3 9.45l-7.72 7.72c-.78.78-.78 2.05 0 2.83L4 21.41c.39.39.9.59 1.41.59.51 0 1.02-.2 1.41-.59l7.78-7.78 2.81-2.81c.8-.78.8-2.07 0-2.86zM5.41 20L4 18.59l7.72-7.72 1.47 1.35L5.41 20z\"/>\n",
       "  </svg>\n",
       "      </button>\n",
       "      \n",
       "  <style>\n",
       "    .colab-df-container {\n",
       "      display:flex;\n",
       "      flex-wrap:wrap;\n",
       "      gap: 12px;\n",
       "    }\n",
       "\n",
       "    .colab-df-convert {\n",
       "      background-color: #E8F0FE;\n",
       "      border: none;\n",
       "      border-radius: 50%;\n",
       "      cursor: pointer;\n",
       "      display: none;\n",
       "      fill: #1967D2;\n",
       "      height: 32px;\n",
       "      padding: 0 0 0 0;\n",
       "      width: 32px;\n",
       "    }\n",
       "\n",
       "    .colab-df-convert:hover {\n",
       "      background-color: #E2EBFA;\n",
       "      box-shadow: 0px 1px 2px rgba(60, 64, 67, 0.3), 0px 1px 3px 1px rgba(60, 64, 67, 0.15);\n",
       "      fill: #174EA6;\n",
       "    }\n",
       "\n",
       "    [theme=dark] .colab-df-convert {\n",
       "      background-color: #3B4455;\n",
       "      fill: #D2E3FC;\n",
       "    }\n",
       "\n",
       "    [theme=dark] .colab-df-convert:hover {\n",
       "      background-color: #434B5C;\n",
       "      box-shadow: 0px 1px 3px 1px rgba(0, 0, 0, 0.15);\n",
       "      filter: drop-shadow(0px 1px 2px rgba(0, 0, 0, 0.3));\n",
       "      fill: #FFFFFF;\n",
       "    }\n",
       "  </style>\n",
       "\n",
       "      <script>\n",
       "        const buttonEl =\n",
       "          document.querySelector('#df-35e87760-f5e7-4fc6-a22c-f329981ef63f button.colab-df-convert');\n",
       "        buttonEl.style.display =\n",
       "          google.colab.kernel.accessAllowed ? 'block' : 'none';\n",
       "\n",
       "        async function convertToInteractive(key) {\n",
       "          const element = document.querySelector('#df-35e87760-f5e7-4fc6-a22c-f329981ef63f');\n",
       "          const dataTable =\n",
       "            await google.colab.kernel.invokeFunction('convertToInteractive',\n",
       "                                                     [key], {});\n",
       "          if (!dataTable) return;\n",
       "\n",
       "          const docLinkHtml = 'Like what you see? Visit the ' +\n",
       "            '<a target=\"_blank\" href=https://colab.research.google.com/notebooks/data_table.ipynb>data table notebook</a>'\n",
       "            + ' to learn more about interactive tables.';\n",
       "          element.innerHTML = '';\n",
       "          dataTable['output_type'] = 'display_data';\n",
       "          await google.colab.output.renderOutput(dataTable, element);\n",
       "          const docLink = document.createElement('div');\n",
       "          docLink.innerHTML = docLinkHtml;\n",
       "          element.appendChild(docLink);\n",
       "        }\n",
       "      </script>\n",
       "    </div>\n",
       "  </div>\n",
       "  "
      ],
      "text/plain": [
       "       sepal length (cm)  sepal width (cm)  petal length (cm)  \\\n",
       "count         150.000000        150.000000         150.000000   \n",
       "mean            5.843333          3.057333           3.758000   \n",
       "std             0.828066          0.435866           1.765298   \n",
       "min             4.300000          2.000000           1.000000   \n",
       "25%             5.100000          2.800000           1.600000   \n",
       "50%             5.800000          3.000000           4.350000   \n",
       "75%             6.400000          3.300000           5.100000   \n",
       "max             7.900000          4.400000           6.900000   \n",
       "\n",
       "       petal width (cm)     Species  \n",
       "count        150.000000  150.000000  \n",
       "mean           1.199333    1.000000  \n",
       "std            0.762238    0.819232  \n",
       "min            0.100000    0.000000  \n",
       "25%            0.300000    0.000000  \n",
       "50%            1.300000    1.000000  \n",
       "75%            1.800000    2.000000  \n",
       "max            2.500000    2.000000  "
      ]
     },
     "execution_count": 14,
     "metadata": {},
     "output_type": "execute_result"
    }
   ],
   "source": [
    "# I-5: Show the summary statistics of the DataFrame.\n",
    "df.describe()"
   ]
  },
  {
   "cell_type": "code",
   "execution_count": null,
   "metadata": {
    "colab": {
     "base_uri": "https://localhost:8080/"
    },
    "id": "M7F78M56SU2C",
    "outputId": "38dc3407-b07b-4538-882f-4579a71f6932"
   },
   "outputs": [
    {
     "name": "stdout",
     "output_type": "stream",
     "text": [
      "number of rows: 150\n"
     ]
    }
   ],
   "source": [
    "# I-6: Count the number of rows in the DataFrame.\n",
    "print(\"number of rows:\", len(df))"
   ]
  },
  {
   "cell_type": "code",
   "execution_count": null,
   "metadata": {
    "colab": {
     "base_uri": "https://localhost:8080/"
    },
    "id": "TfT9Ge7ga1cx",
    "outputId": "3cda93e7-0c81-4cae-ac89-ea462ef039bc"
   },
   "outputs": [
    {
     "name": "stdout",
     "output_type": "stream",
     "text": [
      "Number of Unique values in 'sepal length (cm)' column: 35\n"
     ]
    }
   ],
   "source": [
    "# I-7: Count the number of unique values in a specific column.\n",
    "print(\"Number of Unique values in 'sepal length (cm)' column:\",df['sepal length (cm)'].nunique())"
   ]
  },
  {
   "cell_type": "code",
   "execution_count": null,
   "metadata": {
    "colab": {
     "base_uri": "https://localhost:8080/"
    },
    "id": "IgBqife-bho9",
    "outputId": "8ab911aa-8698-4a35-b559-8810f7857195"
   },
   "outputs": [
    {
     "name": "stdout",
     "output_type": "stream",
     "text": [
      "DataFram sorted by 'sepal length (cm)' column: \n",
      "\n",
      "     sepal length (cm)  sepal width (cm)  petal length (cm)  petal width (cm)  \\\n",
      "13                 4.3               3.0                1.1               0.1   \n",
      "42                 4.4               3.2                1.3               0.2   \n",
      "38                 4.4               3.0                1.3               0.2   \n",
      "8                  4.4               2.9                1.4               0.2   \n",
      "41                 4.5               2.3                1.3               0.3   \n",
      "..                 ...               ...                ...               ...   \n",
      "122                7.7               2.8                6.7               2.0   \n",
      "118                7.7               2.6                6.9               2.3   \n",
      "117                7.7               3.8                6.7               2.2   \n",
      "135                7.7               3.0                6.1               2.3   \n",
      "131                7.9               3.8                6.4               2.0   \n",
      "\n",
      "     Species  \n",
      "13       0.0  \n",
      "42       0.0  \n",
      "38       0.0  \n",
      "8        0.0  \n",
      "41       0.0  \n",
      "..       ...  \n",
      "122      2.0  \n",
      "118      2.0  \n",
      "117      2.0  \n",
      "135      2.0  \n",
      "131      2.0  \n",
      "\n",
      "[150 rows x 5 columns]\n"
     ]
    }
   ],
   "source": [
    "# I-8: Sort the DataFrame by a specific column.\n",
    "sorted_df = df.sort_values('sepal length (cm)')\n",
    "print(\"DataFram sorted by 'sepal length (cm)' column: \\n\")\n",
    "print(sorted_df)"
   ]
  },
  {
   "cell_type": "code",
   "execution_count": null,
   "metadata": {
    "colab": {
     "base_uri": "https://localhost:8080/"
    },
    "id": "81xIK9N4b3oK",
    "outputId": "deb0d8ad-e175-4fa7-d75a-a64d5b2daa8c"
   },
   "outputs": [
    {
     "name": "stdout",
     "output_type": "stream",
     "text": [
      "Filter the DataFrame if 'sepal length (cm)' is greater then 2: \n",
      "\n",
      "     sepal length (cm)  sepal width (cm)  petal length (cm)  petal width (cm)  \\\n",
      "0                  5.1               3.5                1.4               0.2   \n",
      "1                  4.9               3.0                1.4               0.2   \n",
      "2                  4.7               3.2                1.3               0.2   \n",
      "3                  4.6               3.1                1.5               0.2   \n",
      "4                  5.0               3.6                1.4               0.2   \n",
      "..                 ...               ...                ...               ...   \n",
      "145                6.7               3.0                5.2               2.3   \n",
      "146                6.3               2.5                5.0               1.9   \n",
      "147                6.5               3.0                5.2               2.0   \n",
      "148                6.2               3.4                5.4               2.3   \n",
      "149                5.9               3.0                5.1               1.8   \n",
      "\n",
      "     Species  \n",
      "0        0.0  \n",
      "1        0.0  \n",
      "2        0.0  \n",
      "3        0.0  \n",
      "4        0.0  \n",
      "..       ...  \n",
      "145      2.0  \n",
      "146      2.0  \n",
      "147      2.0  \n",
      "148      2.0  \n",
      "149      2.0  \n",
      "\n",
      "[150 rows x 5 columns]\n"
     ]
    }
   ],
   "source": [
    "# I-9: Filter the DataFrame based on a condition.\n",
    "filtered_df = df[df['sepal length (cm)'] > 2]\n",
    "print (\"Filter the DataFrame if 'sepal length (cm)' is greater then 2: \\n\")\n",
    "print(filtered_df)"
   ]
  },
  {
   "cell_type": "code",
   "execution_count": null,
   "metadata": {
    "colab": {
     "base_uri": "https://localhost:8080/"
    },
    "id": "tmsdKq-DcHR2",
    "outputId": "9f5af0f7-462b-4f76-9905-f320f36df620"
   },
   "outputs": [
    {
     "name": "stdout",
     "output_type": "stream",
     "text": [
      "Group the DataFrame by 'sepal length (cm)' column and calculate the mean of 'sepal width (cm)' column:\n",
      "\n",
      "sepal length (cm)\n",
      "4.3    3.000000\n",
      "4.4    3.033333\n",
      "4.5    2.300000\n",
      "4.6    3.325000\n",
      "4.7    3.200000\n",
      "4.8    3.180000\n",
      "4.9    2.950000\n",
      "5.0    3.120000\n",
      "5.1    3.477778\n",
      "5.2    3.425000\n",
      "5.3    3.700000\n",
      "5.4    3.550000\n",
      "5.5    2.842857\n",
      "5.6    2.816667\n",
      "5.7    3.100000\n",
      "5.8    2.885714\n",
      "5.9    3.066667\n",
      "6.0    2.733333\n",
      "6.1    2.850000\n",
      "6.2    2.825000\n",
      "6.3    2.855556\n",
      "6.4    2.957143\n",
      "6.5    3.000000\n",
      "6.6    2.950000\n",
      "6.7    3.050000\n",
      "6.8    3.000000\n",
      "6.9    3.125000\n",
      "7.0    3.200000\n",
      "7.1    3.000000\n",
      "7.2    3.266667\n",
      "7.3    2.900000\n",
      "7.4    2.800000\n",
      "7.6    3.000000\n",
      "7.7    3.050000\n",
      "7.9    3.800000\n",
      "Name: sepal width (cm), dtype: float64\n"
     ]
    }
   ],
   "source": [
    "# I-10: Group the DataFrame by a specific column and calculate the mean of another column.\n",
    "grouped_df = df.groupby('sepal length (cm)')['sepal width (cm)'].mean()\n",
    "print(\"Group the DataFrame by 'sepal length (cm)' column and calculate the mean of 'sepal width (cm)' column:\\n\")\n",
    "print(grouped_df)"
   ]
  },
  {
   "cell_type": "code",
   "execution_count": null,
   "metadata": {
    "colab": {
     "base_uri": "https://localhost:8080/"
    },
    "id": "ysFV_CBQelNY",
    "outputId": "81995689-2347-47fe-f052-9564a702100e"
   },
   "outputs": [
    {
     "name": "stdout",
     "output_type": "stream",
     "text": [
      "Add a new column 'sepal Length mean' to the Dataframe:\n",
      "\n",
      "     sepal length (cm)  sepal width (cm)  petal length (cm)  petal width (cm)  \\\n",
      "0                  5.1               3.5                1.4               0.2   \n",
      "1                  4.9               3.0                1.4               0.2   \n",
      "2                  4.7               3.2                1.3               0.2   \n",
      "3                  4.6               3.1                1.5               0.2   \n",
      "4                  5.0               3.6                1.4               0.2   \n",
      "..                 ...               ...                ...               ...   \n",
      "145                6.7               3.0                5.2               2.3   \n",
      "146                6.3               2.5                5.0               1.9   \n",
      "147                6.5               3.0                5.2               2.0   \n",
      "148                6.2               3.4                5.4               2.3   \n",
      "149                5.9               3.0                5.1               1.8   \n",
      "\n",
      "     Species  sepal Length mean (cm)  \n",
      "0        0.0                5.843333  \n",
      "1        0.0                5.843333  \n",
      "2        0.0                5.843333  \n",
      "3        0.0                5.843333  \n",
      "4        0.0                5.843333  \n",
      "..       ...                     ...  \n",
      "145      2.0                5.843333  \n",
      "146      2.0                5.843333  \n",
      "147      2.0                5.843333  \n",
      "148      2.0                5.843333  \n",
      "149      2.0                5.843333  \n",
      "\n",
      "[150 rows x 6 columns]\n"
     ]
    }
   ],
   "source": [
    "# I-11: Add a new column to the DataFrame.\n",
    "df['sepal Length mean (cm)'] = df['sepal length (cm)'].mean()\n",
    "print(\"Add a new column 'sepal Length mean' to the Dataframe:\\n\")\n",
    "print(df)"
   ]
  },
  {
   "cell_type": "code",
   "execution_count": null,
   "metadata": {
    "colab": {
     "base_uri": "https://localhost:8080/"
    },
    "id": "n9jEB4ANdmtY",
    "outputId": "462873fd-d127-4f1b-da90-0f6764b2e61c"
   },
   "outputs": [
    {
     "name": "stdout",
     "output_type": "stream",
     "text": [
      "Please see Colab notebook file system for the output file\n"
     ]
    }
   ],
   "source": [
    "# I-12: Write a csv (little clunky in google colab)\n",
    "df.to_csv('AISV_801_lab1_Wen.csv', index=False)\n",
    "print ( \"Please see Colab notebook file system for the output file\")"
   ]
  },
  {
   "cell_type": "markdown",
   "metadata": {
    "id": "-Rn2lGZYicoz"
   },
   "source": [
    "## Part II (slide 21) tasks"
   ]
  },
  {
   "cell_type": "code",
   "execution_count": null,
   "metadata": {
    "colab": {
     "base_uri": "https://localhost:8080/"
    },
    "id": "U8qQ_Y4_icKK",
    "outputId": "bc448491-6c0e-427f-b23a-ac37419d09a3"
   },
   "outputs": [
    {
     "name": "stdout",
     "output_type": "stream",
     "text": [
      "     sepal length (cm)  sepal width (cm)\n",
      "0                  5.1               3.5\n",
      "1                  4.9               3.0\n",
      "2                  4.7               3.2\n",
      "3                  4.6               3.1\n",
      "4                  5.0               3.6\n",
      "..                 ...               ...\n",
      "145                6.7               3.0\n",
      "146                6.3               2.5\n",
      "147                6.5               3.0\n",
      "148                6.2               3.4\n",
      "149                5.9               3.0\n",
      "\n",
      "[150 rows x 2 columns]\n"
     ]
    }
   ],
   "source": [
    "# II-1: Select specific columns from the DataFrame: Choose only the \"sepal length (cm)\" and \"sepal width (cm)\" columns from the dataset.\n",
    "selected_columns = df[[\"sepal length (cm)\", \"sepal width (cm)\"]]\n",
    "print(selected_columns)"
   ]
  },
  {
   "cell_type": "code",
   "execution_count": null,
   "metadata": {
    "colab": {
     "base_uri": "https://localhost:8080/"
    },
    "id": "TNxe8VvMi65d",
    "outputId": "433d2c51-6094-4254-d13b-47883ef18c88"
   },
   "outputs": [
    {
     "name": "stdout",
     "output_type": "stream",
     "text": [
      "     sepal length (cm)  sepal width (cm)  petal length (cm)  petal width (cm)  \\\n",
      "0                  5.1               3.5                1.4               0.2   \n",
      "1                  4.9               3.0                1.4               0.2   \n",
      "2                  4.7               3.2                1.3               0.2   \n",
      "3                  4.6               3.1                1.5               0.2   \n",
      "4                  5.0               3.6                1.4               0.2   \n",
      "..                 ...               ...                ...               ...   \n",
      "145                6.7               3.0                5.2               2.3   \n",
      "146                6.3               2.5                5.0               1.9   \n",
      "147                6.5               3.0                5.2               2.0   \n",
      "148                6.2               3.4                5.4               2.3   \n",
      "149                5.9               3.0                5.1               1.8   \n",
      "\n",
      "     Species  sepal Length mean (cm)  petal length sq (cm)  \n",
      "0        0.0                5.843333              1.183216  \n",
      "1        0.0                5.843333              1.183216  \n",
      "2        0.0                5.843333              1.140175  \n",
      "3        0.0                5.843333              1.224745  \n",
      "4        0.0                5.843333              1.183216  \n",
      "..       ...                     ...                   ...  \n",
      "145      2.0                5.843333              2.280351  \n",
      "146      2.0                5.843333              2.236068  \n",
      "147      2.0                5.843333              2.280351  \n",
      "148      2.0                5.843333              2.323790  \n",
      "149      2.0                5.843333              2.258318  \n",
      "\n",
      "[150 rows x 7 columns]\n"
     ]
    }
   ],
   "source": [
    "# II-2:Create a function to a column or multiple columns: Apply the square root function to the \"petal length (cm)\" column.\n",
    "def square_root(x):\n",
    "    return np.sqrt(x)\n",
    "\n",
    "df[\"petal length sq (cm)\"] = df[\"petal length (cm)\"].apply(square_root)\n",
    "print(df)"
   ]
  },
  {
   "cell_type": "code",
   "execution_count": null,
   "metadata": {
    "colab": {
     "base_uri": "https://localhost:8080/"
    },
    "id": "P9I3LmS4Kv_j",
    "outputId": "fcbd640c-d9f4-4d12-db79-3e06126735e0"
   },
   "outputs": [
    {
     "name": "stdout",
     "output_type": "stream",
     "text": [
      "Training set shape: (120,) (120,)\n",
      "Testing set shape: (30,) (30,)\n"
     ]
    }
   ],
   "source": [
    "# II-3: Merge/join multiple DataFrames based on a common column: Create a new DataFrame by separating the iris dataset. Merge it back.\n",
    "## Splitting\n",
    "from sklearn.model_selection import train_test_split\n",
    "\n",
    "X = df['petal width (cm)']  # Features (input variables)\n",
    "y = df['Species']  # Target variable\n",
    "\n",
    "# Split the data into training and testing sets\n",
    "X_train, X_test, y_train, y_test = train_test_split(X, y, test_size=0.2, random_state=42)\n",
    "\n",
    "# Print the shapes of the resulting sets\n",
    "print(\"Training set shape:\", X_train.shape, y_train.shape)\n",
    "print(\"Testing set shape:\", X_test.shape, y_test.shape)"
   ]
  },
  {
   "cell_type": "code",
   "execution_count": null,
   "metadata": {
    "colab": {
     "base_uri": "https://localhost:8080/"
    },
    "id": "XwnRCayfwp5p",
    "outputId": "b78b3d8f-6a4f-433e-d01d-7725d66dc30f"
   },
   "outputs": [
    {
     "data": {
      "text/plain": [
       "count    120.000000\n",
       "mean       1.183333\n",
       "std        0.752289\n",
       "min        0.100000\n",
       "25%        0.300000\n",
       "50%        1.300000\n",
       "75%        1.800000\n",
       "max        2.500000\n",
       "Name: petal width (cm), dtype: float64"
      ]
     },
     "execution_count": 25,
     "metadata": {},
     "output_type": "execute_result"
    }
   ],
   "source": [
    "# check X_train data set\n",
    "X_train.describe()"
   ]
  },
  {
   "cell_type": "code",
   "execution_count": null,
   "metadata": {
    "colab": {
     "base_uri": "https://localhost:8080/"
    },
    "id": "-DA3lTEhwp5q",
    "outputId": "a48dfafb-e279-4434-ee40-cbb8ddbeefd1"
   },
   "outputs": [
    {
     "data": {
      "text/plain": [
       "count    30.000000\n",
       "mean      1.263333\n",
       "std       0.810910\n",
       "min       0.100000\n",
       "25%       0.325000\n",
       "50%       1.350000\n",
       "75%       2.000000\n",
       "max       2.300000\n",
       "Name: petal width (cm), dtype: float64"
      ]
     },
     "execution_count": 26,
     "metadata": {},
     "output_type": "execute_result"
    }
   ],
   "source": [
    "# check X_test data set\n",
    "X_test.describe()"
   ]
  },
  {
   "cell_type": "code",
   "execution_count": null,
   "metadata": {
    "id": "zCUU1Qplky3j"
   },
   "outputs": [],
   "source": [
    "# II-3: Merge/join multiple DataFrames based on a common column: Create a new DataFrame by separating the iris dataset. Merge it back.\n",
    "### Merge back\n",
    "merged_df = pd.concat([X_train, X_test], axis=0, ignore_index=True, sort=False)"
   ]
  },
  {
   "cell_type": "code",
   "execution_count": null,
   "metadata": {
    "colab": {
     "base_uri": "https://localhost:8080/"
    },
    "id": "l7_mNe4gK-1F",
    "outputId": "0a9b3c0f-8bbc-45f7-8538-22130314190d"
   },
   "outputs": [
    {
     "name": "stdout",
     "output_type": "stream",
     "text": [
      "0      0.2\n",
      "1      0.4\n",
      "2      1.4\n",
      "3      0.2\n",
      "4      0.2\n",
      "      ... \n",
      "145    2.3\n",
      "146    1.8\n",
      "147    2.3\n",
      "148    0.3\n",
      "149    0.2\n",
      "Name: petal width (cm), Length: 150, dtype: float64\n"
     ]
    }
   ],
   "source": [
    "print(merged_df)"
   ]
  },
  {
   "cell_type": "code",
   "execution_count": null,
   "metadata": {
    "colab": {
     "base_uri": "https://localhost:8080/"
    },
    "id": "7NN-o4W4wp5q",
    "outputId": "a0dd2e55-fdb4-4d77-d9c5-fed922ca73f7"
   },
   "outputs": [
    {
     "data": {
      "text/plain": [
       "count    150.000000\n",
       "mean       1.199333\n",
       "std        0.762238\n",
       "min        0.100000\n",
       "25%        0.300000\n",
       "50%        1.300000\n",
       "75%        1.800000\n",
       "max        2.500000\n",
       "Name: petal width (cm), dtype: float64"
      ]
     },
     "execution_count": 29,
     "metadata": {},
     "output_type": "execute_result"
    }
   ],
   "source": [
    "merged_df.describe()"
   ]
  },
  {
   "cell_type": "code",
   "execution_count": null,
   "metadata": {
    "colab": {
     "base_uri": "https://localhost:8080/"
    },
    "id": "WbY_taXWwp5q",
    "outputId": "2c9335b7-ad85-41a5-f91a-fee3df5191d5"
   },
   "outputs": [
    {
     "name": "stdout",
     "output_type": "stream",
     "text": [
      "The DataFrame does not have any missing values.\n"
     ]
    }
   ],
   "source": [
    "# II-4  Handle missing values in the dataset: Check if there are any missing values in the DataFrame and handle them by either filling them with a specific value or dropping the corresponding rows/columns.\n",
    "\n",
    "# TRAINING data set\n",
    "has_missing_values = X.isna().any().any()\n",
    "\n",
    "if has_missing_values:\n",
    "    print(\"The DataFrame has missing values.\")\n",
    "else:\n",
    "    print(\"The DataFrame does not have any missing values.\")"
   ]
  },
  {
   "cell_type": "code",
   "execution_count": null,
   "metadata": {
    "colab": {
     "base_uri": "https://localhost:8080/"
    },
    "id": "GVJYUI23wp5r",
    "outputId": "fb49f031-fc77-43b7-b9ee-884789e03c47"
   },
   "outputs": [
    {
     "name": "stdout",
     "output_type": "stream",
     "text": [
      "The DataFrame does not have any missing values.\n"
     ]
    }
   ],
   "source": [
    "# TESTING data set\n",
    "has_missing_values = y.isna().any().any()\n",
    "\n",
    "if has_missing_values:\n",
    "    print(\"The DataFrame has missing values.\")\n",
    "else:\n",
    "    print(\"The DataFrame does not have any missing values.\")"
   ]
  },
  {
   "cell_type": "code",
   "execution_count": null,
   "metadata": {
    "colab": {
     "base_uri": "https://localhost:8080/"
    },
    "id": "27K40k5Ewp5r",
    "outputId": "884d0ed9-43c0-4a79-e619-4b948df1918c"
   },
   "outputs": [
    {
     "name": "stdout",
     "output_type": "stream",
     "text": [
      "     sepal length (cm)  sepal width (cm)  petal length (cm)  petal width (cm)  \\\n",
      "0                  5.1               3.5                1.4               0.2   \n",
      "1                  4.9               3.0                1.4               0.2   \n",
      "2                  4.7               3.2                1.3               0.2   \n",
      "3                  4.6               3.1                1.5               0.2   \n",
      "4                  5.0               3.6                1.4               0.2   \n",
      "..                 ...               ...                ...               ...   \n",
      "145                6.7               3.0                5.2               2.3   \n",
      "146                6.3               2.5                5.0               1.9   \n",
      "147                6.5               3.0                5.2               2.0   \n",
      "148                6.2               3.4                5.4               2.3   \n",
      "149                5.9               3.0                5.1               1.8   \n",
      "\n",
      "     Species  sepal Length mean (cm)  petal length sq (cm)  \n",
      "0        0.0                5.843333              1.183216  \n",
      "1        0.0                5.843333              1.183216  \n",
      "2        0.0                5.843333              1.140175  \n",
      "3        0.0                5.843333              1.224745  \n",
      "4        0.0                5.843333              1.183216  \n",
      "..       ...                     ...                   ...  \n",
      "145      2.0                5.843333              2.280351  \n",
      "146      2.0                5.843333              2.236068  \n",
      "147      2.0                5.843333              2.280351  \n",
      "148      2.0                5.843333              2.323790  \n",
      "149      2.0                5.843333              2.258318  \n",
      "\n",
      "[150 rows x 7 columns]\n"
     ]
    }
   ],
   "source": [
    "# Drop rows if has missing values\n",
    "X = df.dropna(axis=0)\n",
    "print(X)"
   ]
  },
  {
   "cell_type": "code",
   "execution_count": null,
   "metadata": {
    "colab": {
     "base_uri": "https://localhost:8080/"
    },
    "id": "EQnNpkAPwp5s",
    "outputId": "7a05e157-2754-4e62-9610-38a4df369f40"
   },
   "outputs": [
    {
     "name": "stdout",
     "output_type": "stream",
     "text": [
      "     sepal length (cm)  sepal width (cm)  petal length (cm)  petal width (cm)  \\\n",
      "0                  5.1               3.5                1.4               0.2   \n",
      "1                  4.9               3.0                1.4               0.2   \n",
      "2                  4.7               3.2                1.3               0.2   \n",
      "3                  4.6               3.1                1.5               0.2   \n",
      "4                  5.0               3.6                1.4               0.2   \n",
      "..                 ...               ...                ...               ...   \n",
      "145                6.7               3.0                5.2               2.3   \n",
      "146                6.3               2.5                5.0               1.9   \n",
      "147                6.5               3.0                5.2               2.0   \n",
      "148                6.2               3.4                5.4               2.3   \n",
      "149                5.9               3.0                5.1               1.8   \n",
      "\n",
      "     Species  sepal Length mean (cm)  petal length sq (cm)  \n",
      "0        0.0                5.843333              1.183216  \n",
      "1        0.0                5.843333              1.183216  \n",
      "2        0.0                5.843333              1.140175  \n",
      "3        0.0                5.843333              1.224745  \n",
      "4        0.0                5.843333              1.183216  \n",
      "..       ...                     ...                   ...  \n",
      "145      2.0                5.843333              2.280351  \n",
      "146      2.0                5.843333              2.236068  \n",
      "147      2.0                5.843333              2.280351  \n",
      "148      2.0                5.843333              2.323790  \n",
      "149      2.0                5.843333              2.258318  \n",
      "\n",
      "[150 rows x 7 columns]\n"
     ]
    }
   ],
   "source": [
    "## Drop columns if has missing values\n",
    "y = df.dropna(axis=1)\n",
    "print(y)"
   ]
  },
  {
   "cell_type": "code",
   "execution_count": null,
   "metadata": {
    "colab": {
     "base_uri": "https://localhost:8080/"
    },
    "id": "lzvgLwrVwp5t",
    "outputId": "2caf3026-4ab1-4f98-948a-83d8c7e336ec"
   },
   "outputs": [
    {
     "name": "stdout",
     "output_type": "stream",
     "text": [
      "        sepal length (cm)           sepal width (cm)          \n",
      "                     mean       std             mean       std\n",
      "Species                                                       \n",
      "0.0                 5.006  0.352490            3.428  0.379064\n",
      "1.0                 5.936  0.516171            2.770  0.313798\n",
      "2.0                 6.588  0.635880            2.974  0.322497\n"
     ]
    }
   ],
   "source": [
    "# II-5 : Apply a group-wise operation and aggregate multiple columns simultaneously: Group the dataset by \"species\" and calculate the mean and standard deviation of \"sepal length (cm)\" and \"sepal width (cm)\" for each group.\n",
    "\n",
    "##grouped_stats = df.groupby('Species')['sepal length (cm)', 'sepal width (cm)'].agg(['mean', 'std'])   ###code show FutureWarning  DEBUG\n",
    "grouped_stats = df.groupby('Species').agg({'sepal length (cm)': ['mean', 'std']\n",
    "                                           ,'sepal width (cm)': ['mean', 'std']})\n",
    "\n",
    "print(grouped_stats)"
   ]
  },
  {
   "cell_type": "code",
   "execution_count": null,
   "metadata": {
    "colab": {
     "base_uri": "https://localhost:8080/"
    },
    "id": "IOocBSjdwp5t",
    "outputId": "a521056a-a8d2-4acc-ed2b-0c5a0ccddfce"
   },
   "outputs": [
    {
     "name": "stdout",
     "output_type": "stream",
     "text": [
      "     sepal length (cm)  sepal width (cm)  petal length (cm)  petal width (cm)  \\\n",
      "83                 6.0               2.7                5.1               1.6   \n",
      "101                5.8               2.7                5.1               1.9   \n",
      "103                6.3               2.9                5.6               1.8   \n",
      "107                7.3               2.9                6.3               1.8   \n",
      "108                6.7               2.5                5.8               1.8   \n",
      "111                6.4               2.7                5.3               1.9   \n",
      "114                5.8               2.8                5.1               2.4   \n",
      "118                7.7               2.6                6.9               2.3   \n",
      "122                7.7               2.8                6.7               2.0   \n",
      "128                6.4               2.8                5.6               2.1   \n",
      "130                7.4               2.8                6.1               1.9   \n",
      "132                6.4               2.8                5.6               2.2   \n",
      "133                6.3               2.8                5.1               1.5   \n",
      "134                6.1               2.6                5.6               1.4   \n",
      "142                5.8               2.7                5.1               1.9   \n",
      "\n",
      "     Species  sepal Length mean (cm)  petal length sq (cm)  \n",
      "83       1.0                5.843333              2.258318  \n",
      "101      2.0                5.843333              2.258318  \n",
      "103      2.0                5.843333              2.366432  \n",
      "107      2.0                5.843333              2.509980  \n",
      "108      2.0                5.843333              2.408319  \n",
      "111      2.0                5.843333              2.302173  \n",
      "114      2.0                5.843333              2.258318  \n",
      "118      2.0                5.843333              2.626785  \n",
      "122      2.0                5.843333              2.588436  \n",
      "128      2.0                5.843333              2.366432  \n",
      "130      2.0                5.843333              2.469818  \n",
      "132      2.0                5.843333              2.366432  \n",
      "133      2.0                5.843333              2.258318  \n",
      "134      2.0                5.843333              2.366432  \n",
      "142      2.0                5.843333              2.258318  \n"
     ]
    }
   ],
   "source": [
    "# II-6: Perform advanced filtering using multiple conditions: Filter the dataset to include only the rows where \"petal length (cm)\" is greater than 5 and \"sepal width (cm)\" is less than 3.\n",
    "# Filter the dataset based on conditions\n",
    "filtered_df = df[(df['petal length (cm)'] > 5) & (df['sepal width (cm)'] < 3)]\n",
    "\n",
    "print(filtered_df)"
   ]
  },
  {
   "cell_type": "code",
   "execution_count": null,
   "metadata": {
    "colab": {
     "base_uri": "https://localhost:8080/"
    },
    "id": "dXBf9y4Awp5t",
    "outputId": "db5c8062-6985-4854-8891-0833d2fdb532"
   },
   "outputs": [
    {
     "name": "stdout",
     "output_type": "stream",
     "text": [
      "     sepal length (cm)  sepal width (cm)  petal length (cm)  petal width (cm)  \\\n",
      "0                  5.1               3.5                1.4               0.2   \n",
      "1                  4.9               3.0                1.4               0.2   \n",
      "2                  4.7               3.2                1.3               0.2   \n",
      "3                  4.6               3.1                1.5               0.2   \n",
      "4                  5.0               3.6                1.4               0.2   \n",
      "..                 ...               ...                ...               ...   \n",
      "145                6.7               3.0                5.2               2.3   \n",
      "146                6.3               2.5                5.0               1.9   \n",
      "147                6.5               3.0                5.2               2.0   \n",
      "148                6.2               3.4                5.4               2.3   \n",
      "149                5.9               3.0                5.1               1.8   \n",
      "\n",
      "     Species  sepal Length mean (cm)  petal length sq (cm) flower_type  \n",
      "0        0.0                5.843333              1.183216       small  \n",
      "1        0.0                5.843333              1.183216       small  \n",
      "2        0.0                5.843333              1.140175       small  \n",
      "3        0.0                5.843333              1.224745       small  \n",
      "4        0.0                5.843333              1.183216       small  \n",
      "..       ...                     ...                   ...         ...  \n",
      "145      2.0                5.843333              2.280351       large  \n",
      "146      2.0                5.843333              2.236068       large  \n",
      "147      2.0                5.843333              2.280351       large  \n",
      "148      2.0                5.843333              2.323790       large  \n",
      "149      2.0                5.843333              2.258318       large  \n",
      "\n",
      "[150 rows x 8 columns]\n"
     ]
    }
   ],
   "source": [
    "# II-7: Create a new column based on conditions: Create a new column called \"flower_type\" that categorizes the flowers as \"large\" if the \"petal width (cm)\" is greater than 1.5, and \"small\" otherwise.\n",
    "\n",
    "# Define a function to categorize flower types\n",
    "def categorize_flower(row):\n",
    "    if row['petal width (cm)'] > 1.5:\n",
    "        return 'large'\n",
    "    else:\n",
    "        return 'small'\n",
    "\n",
    "# Apply categorize_flower function to create a new column\n",
    "df['flower_type'] = df.apply(categorize_flower, axis=1)\n",
    "print(df)"
   ]
  },
  {
   "cell_type": "code",
   "execution_count": null,
   "metadata": {
    "colab": {
     "base_uri": "https://localhost:8080/"
    },
    "id": "a4Zd83Pbwp5z",
    "outputId": "f330b0cf-a75b-47a7-989d-cd16c2b0de27"
   },
   "outputs": [
    {
     "name": "stdout",
     "output_type": "stream",
     "text": [
      "     sepal length (cm)  sepal width (cm)  petal length (cm)  petal width (cm)  \\\n",
      "0            -0.900681               3.5                1.4               0.2   \n",
      "1            -1.143017               3.0                1.4               0.2   \n",
      "2            -1.385353               3.2                1.3               0.2   \n",
      "3            -1.506521               3.1                1.5               0.2   \n",
      "4            -1.021849               3.6                1.4               0.2   \n",
      "..                 ...               ...                ...               ...   \n",
      "145           1.038005               3.0                5.2               2.3   \n",
      "146           0.553333               2.5                5.0               1.9   \n",
      "147           0.795669               3.0                5.2               2.0   \n",
      "148           0.432165               3.4                5.4               2.3   \n",
      "149           0.068662               3.0                5.1               1.8   \n",
      "\n",
      "     Species  sepal Length mean (cm)  petal length sq (cm) flower_type  \n",
      "0        0.0                5.843333              1.183216       small  \n",
      "1        0.0                5.843333              1.183216       small  \n",
      "2        0.0                5.843333              1.140175       small  \n",
      "3        0.0                5.843333              1.224745       small  \n",
      "4        0.0                5.843333              1.183216       small  \n",
      "..       ...                     ...                   ...         ...  \n",
      "145      2.0                5.843333              2.280351       large  \n",
      "146      2.0                5.843333              2.236068       large  \n",
      "147      2.0                5.843333              2.280351       large  \n",
      "148      2.0                5.843333              2.323790       large  \n",
      "149      2.0                5.843333              2.258318       large  \n",
      "\n",
      "[150 rows x 8 columns]\n"
     ]
    }
   ],
   "source": [
    "# II-8: Normalize or standardize the values in a specific column: Normalize the values in the \"sepal length (cm)\" column using min-max normalization or standardize the values using z-score normalization.\n",
    "from sklearn.preprocessing import StandardScaler\n",
    "\n",
    "# Create a StandardScaler object\n",
    "scaler = StandardScaler()\n",
    "\n",
    "# Apply z-score normalization to the \"sepal length (cm)\" column\n",
    "df['sepal length (cm)'] = scaler.fit_transform(df[['sepal length (cm)']])\n",
    "\n",
    "print(df)"
   ]
  },
  {
   "cell_type": "code",
   "execution_count": null,
   "metadata": {
    "colab": {
     "base_uri": "https://localhost:8080/"
    },
    "id": "e7j70tlPwp5z",
    "outputId": "71f8b935-bb63-4e1c-c3f9-15cdbf8e4bfe"
   },
   "outputs": [
    {
     "name": "stdout",
     "output_type": "stream",
     "text": [
      "'sepal length (cm)' to 'sepal width (cm)' Correlation coefficient: -0.11756978413300212\n"
     ]
    }
   ],
   "source": [
    "# II-9: Perform statistical tests or correlations between different columns: Conduct a correlation analysis between the \"sepal length (cm)\" and \"sepal width (cm)\" columns to determine the strength of their linear relationship.\n",
    "### Calculate the correlation between \"sepal length (cm)\" and \"sepal width (cm)\"\n",
    "correlation = df['sepal length (cm)'].corr(df['sepal width (cm)'])\n",
    "print(\"'sepal length (cm)' to 'sepal width (cm)' Correlation coefficient:\", correlation)"
   ]
  }
 ],
 "metadata": {
  "colab": {
   "include_colab_link": true,
   "provenance": []
  },
  "kernelspec": {
   "display_name": "Python 3 (ipykernel)",
   "language": "python",
   "name": "python3"
  },
  "language_info": {
   "codemirror_mode": {
    "name": "ipython",
    "version": 3
   },
   "file_extension": ".py",
   "mimetype": "text/x-python",
   "name": "python",
   "nbconvert_exporter": "python",
   "pygments_lexer": "ipython3",
   "version": "3.10.9"
  }
 },
 "nbformat": 4,
 "nbformat_minor": 4
}
